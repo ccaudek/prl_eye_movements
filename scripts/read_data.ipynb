{
 "cells": [
  {
   "attachments": {},
   "cell_type": "markdown",
   "metadata": {},
   "source": [
    "# PRL and eye-tracking "
   ]
  },
  {
   "cell_type": "code",
   "execution_count": 1,
   "metadata": {
    "pycharm": {
     "is_executing": true
    }
   },
   "outputs": [],
   "source": [
    "import os\n",
    "import pandas as pd\n",
    "import numpy as np\n",
    "from functools import reduce\n",
    "from pandas.api.types import CategoricalDtype\n",
    "import statsmodels.formula.api as smf\n",
    "from statsmodels.formula.api import ols\n",
    "import sys\n",
    "import datetime\n"
   ]
  },
  {
   "cell_type": "code",
   "execution_count": 2,
   "metadata": {},
   "outputs": [
    {
     "name": "stdout",
     "output_type": "stream",
     "text": [
      "Written by Corrado Caudek\n",
      "Last change: 2023-03-18 11:07:20\n"
     ]
    }
   ],
   "source": [
    "now = datetime.datetime.now()\n",
    "formatted_date = now.strftime(\"%Y-%m-%d %H:%M:%S\")\n",
    "\n",
    "print(\"Written by Corrado Caudek\")\n",
    "print(\"Last change:\", formatted_date)"
   ]
  },
  {
   "cell_type": "code",
   "execution_count": 20,
   "metadata": {},
   "outputs": [],
   "source": [
    "%run helpers_cc_prlet.ipynb"
   ]
  },
  {
   "cell_type": "code",
   "execution_count": 13,
   "metadata": {},
   "outputs": [
    {
     "data": {
      "text/plain": [
       "'/Users/corrado/_repositories/prl_eye_movements/scripts'"
      ]
     },
     "execution_count": 13,
     "metadata": {},
     "output_type": "execute_result"
    }
   ],
   "source": [
    "%pwd"
   ]
  },
  {
   "attachments": {},
   "cell_type": "markdown",
   "metadata": {},
   "source": [
    "Save the folder names contained in the directory `thesis_marta`."
   ]
  },
  {
   "cell_type": "code",
   "execution_count": 21,
   "metadata": {},
   "outputs": [
    {
     "name": "stdout",
     "output_type": "stream",
     "text": [
      "../data/raw/thesis_marta\n"
     ]
    }
   ],
   "source": [
    "# Set the directory path\n",
    "path_to_project_folder = os.path.join(\n",
    "        \"..\",\n",
    "        \"data\",\n",
    "        \"raw\",\n",
    "        \"thesis_marta\"\n",
    "    )\n",
    "print(path_to_project_folder)"
   ]
  },
  {
   "attachments": {},
   "cell_type": "markdown",
   "metadata": {},
   "source": [
    "Get the names of the subjects folders."
   ]
  },
  {
   "cell_type": "code",
   "execution_count": 22,
   "metadata": {},
   "outputs": [
    {
     "name": "stdout",
     "output_type": "stream",
     "text": [
      "['fr_va_1960_08_18_538_u', 'ma_va_1998_07_04_538_d']\n"
     ]
    }
   ],
   "source": [
    "names_of_subjects_folders = get_names_of_subj_folders(path_to_project_folder)\n",
    "print(names_of_subjects_folders)"
   ]
  },
  {
   "attachments": {},
   "cell_type": "markdown",
   "metadata": {},
   "source": [
    "Select one subject."
   ]
  },
  {
   "cell_type": "code",
   "execution_count": 23,
   "metadata": {},
   "outputs": [],
   "source": [
    "# SUBJECT_INDEX identifies the elements of the `folder` list.\n",
    "SUBJECT_INDEX = 1"
   ]
  },
  {
   "attachments": {},
   "cell_type": "markdown",
   "metadata": {},
   "source": [
    "For the selected subject, get the name of the file in the `biographical_data` folder."
   ]
  },
  {
   "cell_type": "code",
   "execution_count": 24,
   "metadata": {},
   "outputs": [],
   "source": [
    "bio_data_df = get_biographic_data(SUBJECT_INDEX, names_of_subjects_folders)\n",
    "\n",
    "subject_id_string = bio_data_df[\"subject_id_string\"]\n",
    "subject_id_number = bio_data_df[\"subject_id_number\"]"
   ]
  },
  {
   "attachments": {},
   "cell_type": "markdown",
   "metadata": {},
   "source": [
    "Read thresholds from calibration data."
   ]
  },
  {
   "cell_type": "code",
   "execution_count": 25,
   "metadata": {},
   "outputs": [
    {
     "name": "stdout",
     "output_type": "stream",
     "text": [
      "[0.53, 0.57, 0.58, 0.5]\n"
     ]
    }
   ],
   "source": [
    "thresholds = get_thresholds(SUBJECT_INDEX, names_of_subjects_folders)\n",
    "print(thresholds)"
   ]
  },
  {
   "attachments": {},
   "cell_type": "markdown",
   "metadata": {},
   "source": [
    "Read eye-tracking data."
   ]
  },
  {
   "cell_type": "code",
   "execution_count": 26,
   "metadata": {},
   "outputs": [],
   "source": [
    "fix_df = get_eye_tracking_data(SUBJECT_INDEX, names_of_subjects_folders, thresholds)"
   ]
  },
  {
   "cell_type": "code",
   "execution_count": 27,
   "metadata": {},
   "outputs": [
    {
     "data": {
      "text/html": [
       "<div>\n",
       "<style scoped>\n",
       "    .dataframe tbody tr th:only-of-type {\n",
       "        vertical-align: middle;\n",
       "    }\n",
       "\n",
       "    .dataframe tbody tr th {\n",
       "        vertical-align: top;\n",
       "    }\n",
       "\n",
       "    .dataframe thead th {\n",
       "        text-align: right;\n",
       "    }\n",
       "</style>\n",
       "<table border=\"1\" class=\"dataframe\">\n",
       "  <thead>\n",
       "    <tr style=\"text-align: right;\">\n",
       "      <th></th>\n",
       "      <th>prop_dx_fixation</th>\n",
       "      <th>prop_sx_fixation</th>\n",
       "      <th>prop_center_fixation</th>\n",
       "      <th>block</th>\n",
       "      <th>trial</th>\n",
       "      <th>stim_left</th>\n",
       "      <th>stim_left_img_number</th>\n",
       "      <th>stim_right</th>\n",
       "      <th>stim_right_img_number</th>\n",
       "      <th>subject_id_number2</th>\n",
       "    </tr>\n",
       "  </thead>\n",
       "  <tbody>\n",
       "    <tr>\n",
       "      <th>0</th>\n",
       "      <td>0.589286</td>\n",
       "      <td>0.142857</td>\n",
       "      <td>0.267857</td>\n",
       "      <td>5</td>\n",
       "      <td>107</td>\n",
       "      <td>orange</td>\n",
       "      <td>9</td>\n",
       "      <td>blue</td>\n",
       "      <td>4</td>\n",
       "      <td>0GLB5VNRFDP</td>\n",
       "    </tr>\n",
       "    <tr>\n",
       "      <th>1</th>\n",
       "      <td>0.346154</td>\n",
       "      <td>0.000000</td>\n",
       "      <td>0.653846</td>\n",
       "      <td>5</td>\n",
       "      <td>102</td>\n",
       "      <td>blue</td>\n",
       "      <td>5</td>\n",
       "      <td>orange</td>\n",
       "      <td>9</td>\n",
       "      <td>0GLB5VNRFDP</td>\n",
       "    </tr>\n",
       "    <tr>\n",
       "      <th>2</th>\n",
       "      <td>0.212766</td>\n",
       "      <td>0.446809</td>\n",
       "      <td>0.340426</td>\n",
       "      <td>1</td>\n",
       "      <td>14</td>\n",
       "      <td>blue</td>\n",
       "      <td>3</td>\n",
       "      <td>orange</td>\n",
       "      <td>7</td>\n",
       "      <td>0GLB5VNRFDP</td>\n",
       "    </tr>\n",
       "    <tr>\n",
       "      <th>3</th>\n",
       "      <td>0.312500</td>\n",
       "      <td>0.359375</td>\n",
       "      <td>0.328125</td>\n",
       "      <td>2</td>\n",
       "      <td>44</td>\n",
       "      <td>blue</td>\n",
       "      <td>7</td>\n",
       "      <td>orange</td>\n",
       "      <td>5</td>\n",
       "      <td>0GLB5VNRFDP</td>\n",
       "    </tr>\n",
       "    <tr>\n",
       "      <th>4</th>\n",
       "      <td>0.454545</td>\n",
       "      <td>0.151515</td>\n",
       "      <td>0.393939</td>\n",
       "      <td>3</td>\n",
       "      <td>74</td>\n",
       "      <td>orange</td>\n",
       "      <td>2</td>\n",
       "      <td>blue</td>\n",
       "      <td>5</td>\n",
       "      <td>0GLB5VNRFDP</td>\n",
       "    </tr>\n",
       "  </tbody>\n",
       "</table>\n",
       "</div>"
      ],
      "text/plain": [
       "   prop_dx_fixation  prop_sx_fixation  prop_center_fixation  block  trial  \\\n",
       "0          0.589286          0.142857              0.267857      5    107   \n",
       "1          0.346154          0.000000              0.653846      5    102   \n",
       "2          0.212766          0.446809              0.340426      1     14   \n",
       "3          0.312500          0.359375              0.328125      2     44   \n",
       "4          0.454545          0.151515              0.393939      3     74   \n",
       "\n",
       "  stim_left  stim_left_img_number stim_right  stim_right_img_number  \\\n",
       "0    orange                     9       blue                      4   \n",
       "1      blue                     5     orange                      9   \n",
       "2      blue                     3     orange                      7   \n",
       "3      blue                     7     orange                      5   \n",
       "4    orange                     2       blue                      5   \n",
       "\n",
       "  subject_id_number2  \n",
       "0        0GLB5VNRFDP  \n",
       "1        0GLB5VNRFDP  \n",
       "2        0GLB5VNRFDP  \n",
       "3        0GLB5VNRFDP  \n",
       "4        0GLB5VNRFDP  "
      ]
     },
     "execution_count": 27,
     "metadata": {},
     "output_type": "execute_result"
    }
   ],
   "source": [
    "fix_df.head()"
   ]
  },
  {
   "cell_type": "code",
   "execution_count": 28,
   "metadata": {},
   "outputs": [
    {
     "data": {
      "text/plain": [
       "[0.2894117593919631, 0.22672230664336093, 0.483865933964676]"
      ]
     },
     "execution_count": 28,
     "metadata": {},
     "output_type": "execute_result"
    }
   ],
   "source": [
    "# calculate mean of prop_dx_fixation column\n",
    "mean_dx = fix_df['prop_dx_fixation'].mean()\n",
    "\n",
    "# calculate mean of prop_sx_fixation column\n",
    "mean_sx = fix_df['prop_sx_fixation'].mean()\n",
    "\n",
    "# calculate mean of prop_center_fixation column\n",
    "mean_center = fix_df['prop_center_fixation'].mean()\n",
    "\n",
    "[mean_dx, mean_sx, mean_center]"
   ]
  },
  {
   "attachments": {},
   "cell_type": "markdown",
   "metadata": {},
   "source": [
    "Read PRL data"
   ]
  },
  {
   "cell_type": "code",
   "execution_count": 29,
   "metadata": {},
   "outputs": [],
   "source": [
    "prl_df = read_prl_data(SUBJECT_INDEX, names_of_subjects_folders)\n"
   ]
  },
  {
   "attachments": {},
   "cell_type": "markdown",
   "metadata": {},
   "source": [
    "Merge the fixation DataFrame and the PRL DataFrame"
   ]
  },
  {
   "cell_type": "code",
   "execution_count": 30,
   "metadata": {},
   "outputs": [
    {
     "data": {
      "text/plain": [
       "Index(['prop_dx_fixation', 'prop_sx_fixation', 'prop_center_fixation', 'block',\n",
       "       'trial', 'stim_left', 'stim_left_img_number', 'stim_right',\n",
       "       'stim_right_img_number', 'subject_id_number2', 'more_rewarded_color',\n",
       "       'stimulus_choice', 'blue_position', 'orange_position', 'left_img_name',\n",
       "       'right_img_name', 'location_choice', 'keyboard_input', 'orange_reward',\n",
       "       'blue_reward', 'outcome', 'start_reaction_time', 'end_reaction_time',\n",
       "       'start_absolute_time', 'end_absolute_time'],\n",
       "      dtype='object')"
      ]
     },
     "execution_count": 30,
     "metadata": {},
     "output_type": "execute_result"
    }
   ],
   "source": [
    "tot_df = pd.merge(fix_df, prl_df, on=\"trial\", how=\"outer\")\n",
    "tot_df.columns\n"
   ]
  },
  {
   "cell_type": "code",
   "execution_count": 33,
   "metadata": {},
   "outputs": [
    {
     "data": {
      "text/plain": [
       "0.72"
      ]
     },
     "execution_count": 33,
     "metadata": {},
     "output_type": "execute_result"
    }
   ],
   "source": [
    "# Calculate rt column\n",
    "tot_df[\"rt\"] = tot_df[\"end_reaction_time\"] - tot_df[\"start_reaction_time\"]\n",
    "\n",
    "# Create is_negative_img_chosen column\n",
    "tot_df[\"is_negative_img_chosen\"] = tot_df[\"stimulus_choice\"].apply(\n",
    "    lambda x: 1 if x == \"blue\" else 0\n",
    ")\n",
    "\n",
    "# Create feedback column\n",
    "tot_df[\"feedback\"] = tot_df[\"outcome\"].apply(lambda x: 1 if x == \"euro\" else 0)\n",
    "\n",
    "# Calculate mean feedback\n",
    "mean_feedback = tot_df[\"feedback\"].mean()\n",
    "mean_feedback\n"
   ]
  },
  {
   "cell_type": "code",
   "execution_count": 34,
   "metadata": {},
   "outputs": [
    {
     "data": {
      "text/plain": [
       "0      orange_9\n",
       "1        blue_5\n",
       "2        blue_3\n",
       "3        blue_7\n",
       "4      orange_2\n",
       "         ...   \n",
       "145      blue_3\n",
       "146      blue_6\n",
       "147    orange_6\n",
       "148    orange_8\n",
       "149    orange_1\n",
       "Name: left_img_name, Length: 150, dtype: object"
      ]
     },
     "execution_count": 34,
     "metadata": {},
     "output_type": "execute_result"
    }
   ],
   "source": [
    "tot_df.left_img_name"
   ]
  },
  {
   "attachments": {},
   "cell_type": "markdown",
   "metadata": {},
   "source": [
    "Recode `left_img_name` (orange_5, blue_8, ...) so as to keep only the name (discard the number)."
   ]
  },
  {
   "cell_type": "code",
   "execution_count": 35,
   "metadata": {},
   "outputs": [],
   "source": [
    "left_img = tot_df[\"left_img_name\"].str.split(\"_\")\n",
    "tot_df[\"image_on_left\"] = pd.DataFrame(left_img.tolist())[0]\n",
    "\n",
    "right_img = tot_df[\"right_img_name\"].str.split(\"_\")\n",
    "tot_df[\"image_on_right\"] = pd.DataFrame(right_img.tolist())[0]"
   ]
  },
  {
   "attachments": {},
   "cell_type": "markdown",
   "metadata": {},
   "source": [
    "Compute the proportion of left fixations, when the target is on the left and the proportion of right fixations, when the target is on the right. The sum of the two gives the total proportion of fixation to the target."
   ]
  },
  {
   "cell_type": "code",
   "execution_count": 36,
   "metadata": {},
   "outputs": [
    {
     "data": {
      "text/plain": [
       "(150, 30)"
      ]
     },
     "execution_count": 36,
     "metadata": {},
     "output_type": "execute_result"
    }
   ],
   "source": [
    "tot_df.shape"
   ]
  },
  {
   "cell_type": "code",
   "execution_count": 37,
   "metadata": {},
   "outputs": [
    {
     "data": {
      "text/plain": [
       "Index(['prop_dx_fixation', 'prop_sx_fixation', 'prop_center_fixation', 'block',\n",
       "       'trial', 'stim_left', 'stim_left_img_number', 'stim_right',\n",
       "       'stim_right_img_number', 'subject_id_number2', 'more_rewarded_color',\n",
       "       'stimulus_choice', 'blue_position', 'orange_position', 'left_img_name',\n",
       "       'right_img_name', 'location_choice', 'keyboard_input', 'orange_reward',\n",
       "       'blue_reward', 'outcome', 'start_reaction_time', 'end_reaction_time',\n",
       "       'start_absolute_time', 'end_absolute_time', 'rt',\n",
       "       'is_negative_img_chosen', 'feedback', 'image_on_left',\n",
       "       'image_on_right'],\n",
       "      dtype='object')"
      ]
     },
     "execution_count": 37,
     "metadata": {},
     "output_type": "execute_result"
    }
   ],
   "source": [
    "tot_df.columns"
   ]
  },
  {
   "cell_type": "code",
   "execution_count": 39,
   "metadata": {},
   "outputs": [
    {
     "data": {
      "text/html": [
       "<div>\n",
       "<style scoped>\n",
       "    .dataframe tbody tr th:only-of-type {\n",
       "        vertical-align: middle;\n",
       "    }\n",
       "\n",
       "    .dataframe tbody tr th {\n",
       "        vertical-align: top;\n",
       "    }\n",
       "\n",
       "    .dataframe thead th {\n",
       "        text-align: right;\n",
       "    }\n",
       "</style>\n",
       "<table border=\"1\" class=\"dataframe\">\n",
       "  <thead>\n",
       "    <tr style=\"text-align: right;\">\n",
       "      <th></th>\n",
       "      <th>prop_dx_fixation</th>\n",
       "      <th>prop_sx_fixation</th>\n",
       "      <th>prop_center_fixation</th>\n",
       "      <th>block</th>\n",
       "      <th>trial</th>\n",
       "      <th>stim_left</th>\n",
       "      <th>stim_left_img_number</th>\n",
       "      <th>stim_right</th>\n",
       "      <th>stim_right_img_number</th>\n",
       "      <th>subject_id_number2</th>\n",
       "      <th>...</th>\n",
       "      <th>outcome</th>\n",
       "      <th>start_reaction_time</th>\n",
       "      <th>end_reaction_time</th>\n",
       "      <th>start_absolute_time</th>\n",
       "      <th>end_absolute_time</th>\n",
       "      <th>rt</th>\n",
       "      <th>is_negative_img_chosen</th>\n",
       "      <th>feedback</th>\n",
       "      <th>image_on_left</th>\n",
       "      <th>image_on_right</th>\n",
       "    </tr>\n",
       "  </thead>\n",
       "  <tbody>\n",
       "    <tr>\n",
       "      <th>0</th>\n",
       "      <td>0.589286</td>\n",
       "      <td>0.142857</td>\n",
       "      <td>0.267857</td>\n",
       "      <td>5</td>\n",
       "      <td>107</td>\n",
       "      <td>orange</td>\n",
       "      <td>9</td>\n",
       "      <td>blue</td>\n",
       "      <td>4</td>\n",
       "      <td>0GLB5VNRFDP</td>\n",
       "      <td>...</td>\n",
       "      <td>euro</td>\n",
       "      <td>503212</td>\n",
       "      <td>505557</td>\n",
       "      <td>11:50:56.889728</td>\n",
       "      <td>11:50:59.234327</td>\n",
       "      <td>2345</td>\n",
       "      <td>0</td>\n",
       "      <td>1</td>\n",
       "      <td>orange</td>\n",
       "      <td>blue</td>\n",
       "    </tr>\n",
       "    <tr>\n",
       "      <th>1</th>\n",
       "      <td>0.346154</td>\n",
       "      <td>0.000000</td>\n",
       "      <td>0.653846</td>\n",
       "      <td>5</td>\n",
       "      <td>102</td>\n",
       "      <td>blue</td>\n",
       "      <td>5</td>\n",
       "      <td>orange</td>\n",
       "      <td>9</td>\n",
       "      <td>0GLB5VNRFDP</td>\n",
       "      <td>...</td>\n",
       "      <td>euro</td>\n",
       "      <td>487492</td>\n",
       "      <td>488529</td>\n",
       "      <td>11:50:41.168602</td>\n",
       "      <td>11:50:42.205638</td>\n",
       "      <td>1037</td>\n",
       "      <td>0</td>\n",
       "      <td>1</td>\n",
       "      <td>blue</td>\n",
       "      <td>orange</td>\n",
       "    </tr>\n",
       "  </tbody>\n",
       "</table>\n",
       "<p>2 rows × 30 columns</p>\n",
       "</div>"
      ],
      "text/plain": [
       "   prop_dx_fixation  prop_sx_fixation  prop_center_fixation  block  trial  \\\n",
       "0          0.589286          0.142857              0.267857      5    107   \n",
       "1          0.346154          0.000000              0.653846      5    102   \n",
       "\n",
       "  stim_left  stim_left_img_number stim_right  stim_right_img_number  \\\n",
       "0    orange                     9       blue                      4   \n",
       "1      blue                     5     orange                      9   \n",
       "\n",
       "  subject_id_number2  ... outcome start_reaction_time  end_reaction_time  \\\n",
       "0        0GLB5VNRFDP  ...    euro              503212             505557   \n",
       "1        0GLB5VNRFDP  ...    euro              487492             488529   \n",
       "\n",
       "   start_absolute_time end_absolute_time    rt is_negative_img_chosen  \\\n",
       "0      11:50:56.889728   11:50:59.234327  2345                      0   \n",
       "1      11:50:41.168602   11:50:42.205638  1037                      0   \n",
       "\n",
       "  feedback  image_on_left  image_on_right  \n",
       "0        1         orange            blue  \n",
       "1        1           blue          orange  \n",
       "\n",
       "[2 rows x 30 columns]"
      ]
     },
     "execution_count": 39,
     "metadata": {},
     "output_type": "execute_result"
    }
   ],
   "source": [
    "tot_df.head(2)"
   ]
  },
  {
   "cell_type": "code",
   "execution_count": 43,
   "metadata": {},
   "outputs": [
    {
     "data": {
      "text/html": [
       "<div>\n",
       "<style scoped>\n",
       "    .dataframe tbody tr th:only-of-type {\n",
       "        vertical-align: middle;\n",
       "    }\n",
       "\n",
       "    .dataframe tbody tr th {\n",
       "        vertical-align: top;\n",
       "    }\n",
       "\n",
       "    .dataframe thead th {\n",
       "        text-align: right;\n",
       "    }\n",
       "</style>\n",
       "<table border=\"1\" class=\"dataframe\">\n",
       "  <thead>\n",
       "    <tr style=\"text-align: right;\">\n",
       "      <th></th>\n",
       "      <th></th>\n",
       "      <th>avg_left_fix</th>\n",
       "      <th>avg_right_fix</th>\n",
       "    </tr>\n",
       "    <tr>\n",
       "      <th>stim_left</th>\n",
       "      <th>stim_right</th>\n",
       "      <th></th>\n",
       "      <th></th>\n",
       "    </tr>\n",
       "  </thead>\n",
       "  <tbody>\n",
       "    <tr>\n",
       "      <th>blue</th>\n",
       "      <th>orange</th>\n",
       "      <td>0.334230</td>\n",
       "      <td>0.165431</td>\n",
       "    </tr>\n",
       "    <tr>\n",
       "      <th>orange</th>\n",
       "      <th>blue</th>\n",
       "      <td>0.107102</td>\n",
       "      <td>0.427362</td>\n",
       "    </tr>\n",
       "  </tbody>\n",
       "</table>\n",
       "</div>"
      ],
      "text/plain": [
       "                      avg_left_fix  avg_right_fix\n",
       "stim_left stim_right                             \n",
       "blue      orange          0.334230       0.165431\n",
       "orange    blue            0.107102       0.427362"
      ]
     },
     "execution_count": 43,
     "metadata": {},
     "output_type": "execute_result"
    }
   ],
   "source": [
    "avg_fix = tot_df.groupby([\"stim_left\", \"stim_right\"]).agg(\n",
    "    avg_left_fix=(\"prop_sx_fixation\", \"mean\"),\n",
    "    avg_right_fix=(\"prop_dx_fixation\", \"mean\"),\n",
    ")\n",
    "avg_fix"
   ]
  },
  {
   "attachments": {},
   "cell_type": "markdown",
   "metadata": {},
   "source": [
    "When the stimulus target (blue) is on the left, on the 0th row I have to compute:\n",
    "`r0 = avg_left_fix / (avg_left_fix + avg_rigth_fix)`. When the stimulus target (blue) is on the right, on the 1st row I have to compute:\n",
    "`r1 = avg_right_fix / (avg_left_fix + avg_rigth_fix)`. Then \n",
    "`blue_preference = (r0 + r1) / 2`."
   ]
  },
  {
   "cell_type": "code",
   "execution_count": 56,
   "metadata": {},
   "outputs": [
    {
     "data": {
      "text/plain": [
       "0.734261144893066"
      ]
     },
     "execution_count": 56,
     "metadata": {},
     "output_type": "execute_result"
    }
   ],
   "source": [
    "blue_preference = avg_fix[\"avg_left_fix\"][0] / (\n",
    "    avg_fix[\"avg_left_fix\"][0] + avg_fix[\"avg_right_fix\"][0]\n",
    ") + avg_fix[\"avg_right_fix\"][1] / (\n",
    "    avg_fix[\"avg_left_fix\"][1] + avg_fix[\"avg_right_fix\"][1]\n",
    ")\n",
    "blue_preference /= 2\n",
    "blue_preference\n"
   ]
  },
  {
   "attachments": {},
   "cell_type": "markdown",
   "metadata": {},
   "source": [
    "A value of `blue_preference` greater than 0.5 indicates a preference for the blu stimulus, according to the proportion of fixations."
   ]
  },
  {
   "attachments": {},
   "cell_type": "markdown",
   "metadata": {},
   "source": [
    "The blue stimulus had been chosen this proportion of times:"
   ]
  },
  {
   "cell_type": "code",
   "execution_count": 57,
   "metadata": {},
   "outputs": [
    {
     "data": {
      "text/plain": [
       "0.52"
      ]
     },
     "execution_count": 57,
     "metadata": {},
     "output_type": "execute_result"
    }
   ],
   "source": [
    "tot_df[\"is_negative_img_chosen\"].mean()"
   ]
  },
  {
   "attachments": {},
   "cell_type": "markdown",
   "metadata": {},
   "source": [
    "It is still necessary to check the part below!!"
   ]
  },
  {
   "cell_type": "code",
   "execution_count": 59,
   "metadata": {},
   "outputs": [
    {
     "name": "stdout",
     "output_type": "stream",
     "text": [
      "                             OLS Regression Results                            \n",
      "===============================================================================\n",
      "Dep. Variable:     is_preference_right   R-squared:                       0.407\n",
      "Model:                             OLS   Adj. R-squared:                  0.403\n",
      "Method:                  Least Squares   F-statistic:                     101.5\n",
      "Date:                 Sat, 18 Mar 2023   Prob (F-statistic):           1.67e-18\n",
      "Time:                         11:51:37   Log-Likelihood:                -29.646\n",
      "No. Observations:                  150   AIC:                             63.29\n",
      "Df Residuals:                      148   BIC:                             69.31\n",
      "Df Model:                            1                                         \n",
      "Covariance Type:             nonrobust                                         \n",
      "========================================================================================\n",
      "                           coef    std err          t      P>|t|      [0.025      0.975]\n",
      "----------------------------------------------------------------------------------------\n",
      "Intercept                0.3203      0.035      9.091      0.000       0.251       0.390\n",
      "stim_right[T.orange]    -0.4891      0.049    -10.075      0.000      -0.585      -0.393\n",
      "==============================================================================\n",
      "Omnibus:                        1.024   Durbin-Watson:                   2.146\n",
      "Prob(Omnibus):                  0.599   Jarque-Bera (JB):                0.996\n",
      "Skew:                          -0.022   Prob(JB):                        0.608\n",
      "Kurtosis:                       2.603   Cond. No.                         2.69\n",
      "==============================================================================\n",
      "\n",
      "Notes:\n",
      "[1] Standard Errors assume that the covariance matrix of the errors is correctly specified.\n"
     ]
    }
   ],
   "source": [
    "tot_df[\"is_preference_right\"] = tot_df[\"prop_dx_fixation\"] - tot_df[\"prop_sx_fixation\"]\n",
    "\n",
    "fm = smf.ols(\"is_preference_right ~ stim_right\", data=tot_df).fit()\n",
    "print(fm.summary())"
   ]
  },
  {
   "cell_type": "code",
   "execution_count": 60,
   "metadata": {},
   "outputs": [
    {
     "name": "stdout",
     "output_type": "stream",
     "text": [
      "                             OLS Regression Results                            \n",
      "===============================================================================\n",
      "Dep. Variable:     is_preference_right   R-squared:                       0.407\n",
      "Model:                             OLS   Adj. R-squared:                  0.403\n",
      "Method:                  Least Squares   F-statistic:                     101.5\n",
      "Date:                 Sat, 18 Mar 2023   Prob (F-statistic):           1.67e-18\n",
      "Time:                         11:51:40   Log-Likelihood:                -29.646\n",
      "No. Observations:                  150   AIC:                             63.29\n",
      "Df Residuals:                      148   BIC:                             69.31\n",
      "Df Model:                            1                                         \n",
      "Covariance Type:             nonrobust                                         \n",
      "=======================================================================================\n",
      "                          coef    std err          t      P>|t|      [0.025      0.975]\n",
      "---------------------------------------------------------------------------------------\n",
      "Intercept              -0.1688      0.033     -5.054      0.000      -0.235      -0.103\n",
      "stim_left[T.orange]     0.4891      0.049     10.075      0.000       0.393       0.585\n",
      "==============================================================================\n",
      "Omnibus:                        1.024   Durbin-Watson:                   2.146\n",
      "Prob(Omnibus):                  0.599   Jarque-Bera (JB):                0.996\n",
      "Skew:                          -0.022   Prob(JB):                        0.608\n",
      "Kurtosis:                       2.603   Cond. No.                         2.56\n",
      "==============================================================================\n",
      "\n",
      "Notes:\n",
      "[1] Standard Errors assume that the covariance matrix of the errors is correctly specified.\n"
     ]
    }
   ],
   "source": [
    "fm1 = smf.ols(\"is_preference_right ~ stim_left\", data=tot_df).fit()\n",
    "print(fm1.summary())"
   ]
  },
  {
   "cell_type": "code",
   "execution_count": 182,
   "metadata": {},
   "outputs": [
    {
     "data": {
      "text/html": [
       "<div>\n",
       "<style scoped>\n",
       "    .dataframe tbody tr th:only-of-type {\n",
       "        vertical-align: middle;\n",
       "    }\n",
       "\n",
       "    .dataframe tbody tr th {\n",
       "        vertical-align: top;\n",
       "    }\n",
       "\n",
       "    .dataframe thead th {\n",
       "        text-align: right;\n",
       "    }\n",
       "</style>\n",
       "<table border=\"1\" class=\"dataframe\">\n",
       "  <thead>\n",
       "    <tr style=\"text-align: right;\">\n",
       "      <th></th>\n",
       "      <th>avg_left</th>\n",
       "      <th>avg_right</th>\n",
       "    </tr>\n",
       "    <tr>\n",
       "      <th>location_choice</th>\n",
       "      <th></th>\n",
       "      <th></th>\n",
       "    </tr>\n",
       "  </thead>\n",
       "  <tbody>\n",
       "    <tr>\n",
       "      <th>left</th>\n",
       "      <td>0.09229</td>\n",
       "      <td>0.602937</td>\n",
       "    </tr>\n",
       "    <tr>\n",
       "      <th>right</th>\n",
       "      <td>0.05719</td>\n",
       "      <td>0.686575</td>\n",
       "    </tr>\n",
       "  </tbody>\n",
       "</table>\n",
       "</div>"
      ],
      "text/plain": [
       "                 avg_left  avg_right\n",
       "location_choice                     \n",
       "left              0.09229   0.602937\n",
       "right             0.05719   0.686575"
      ]
     },
     "execution_count": 182,
     "metadata": {},
     "output_type": "execute_result"
    }
   ],
   "source": [
    "tot_df.groupby([\"location_choice\"]).agg(\n",
    "    avg_left=(\"prop_sx_fixation\", \"mean\"), avg_right=(\"prop_dx_fixation\", \"mean\")\n",
    ")"
   ]
  },
  {
   "attachments": {},
   "cell_type": "markdown",
   "metadata": {},
   "source": [
    "Average positive feedback."
   ]
  },
  {
   "cell_type": "code",
   "execution_count": 183,
   "metadata": {},
   "outputs": [
    {
     "name": "stdout",
     "output_type": "stream",
     "text": [
      "0.72\n"
     ]
    }
   ],
   "source": [
    "mean_feedback = tot_df[\"feedback\"].mean()\n",
    "print(mean_feedback)"
   ]
  }
 ],
 "metadata": {
  "kernelspec": {
   "display_name": "pymc_511",
   "language": "python",
   "name": "python3"
  },
  "language_info": {
   "codemirror_mode": {
    "name": "ipython",
    "version": 3
   },
   "file_extension": ".py",
   "mimetype": "text/x-python",
   "name": "python",
   "nbconvert_exporter": "python",
   "pygments_lexer": "ipython3",
   "version": "3.11.0"
  },
  "orig_nbformat": 4,
  "vscode": {
   "interpreter": {
    "hash": "b3beb53266ff5bd7e621f3af1c4942e62a7b1a5962616828f37cf42435bfcfb1"
   }
  }
 },
 "nbformat": 4,
 "nbformat_minor": 2
}
