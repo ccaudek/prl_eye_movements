{
 "cells": [
  {
   "attachments": {},
   "cell_type": "markdown",
   "metadata": {},
   "source": [
    "# PRL and eye-tracking "
   ]
  },
  {
   "cell_type": "code",
   "execution_count": 163,
   "metadata": {
    "pycharm": {
     "is_executing": true
    }
   },
   "outputs": [],
   "source": [
    "import os\n",
    "import pandas as pd\n",
    "import numpy as np\n",
    "from functools import reduce\n",
    "from pandas.api.types import CategoricalDtype\n",
    "import statsmodels.formula.api as smf\n",
    "from statsmodels.formula.api import ols\n",
    "import sys\n",
    "import datetime\n"
   ]
  },
  {
   "cell_type": "code",
   "execution_count": 164,
   "metadata": {},
   "outputs": [
    {
     "name": "stdout",
     "output_type": "stream",
     "text": [
      "Written by Corrado Caudek\n",
      "Last change: 2023-03-18 09:40:02\n"
     ]
    }
   ],
   "source": [
    "now = datetime.datetime.now()\n",
    "formatted_date = now.strftime(\"%Y-%m-%d %H:%M:%S\")\n",
    "\n",
    "print(\"Written by Corrado Caudek\")\n",
    "print(\"Last change:\", formatted_date)"
   ]
  },
  {
   "cell_type": "code",
   "execution_count": 165,
   "metadata": {},
   "outputs": [],
   "source": [
    "%run helpers_cc_prlet.ipynb"
   ]
  },
  {
   "cell_type": "code",
   "execution_count": 166,
   "metadata": {},
   "outputs": [
    {
     "data": {
      "text/plain": [
       "'/Users/corrado/_repositories/prl_eye_movements/scripts'"
      ]
     },
     "execution_count": 166,
     "metadata": {},
     "output_type": "execute_result"
    }
   ],
   "source": [
    "%pwd"
   ]
  },
  {
   "attachments": {},
   "cell_type": "markdown",
   "metadata": {},
   "source": [
    "Save the folder names contained in the directory `thesis_marta`."
   ]
  },
  {
   "cell_type": "code",
   "execution_count": 167,
   "metadata": {},
   "outputs": [
    {
     "name": "stdout",
     "output_type": "stream",
     "text": [
      "../data/raw/thesis_marta\n"
     ]
    }
   ],
   "source": [
    "# Set the directory path\n",
    "path_to_project_folder = os.path.join(\n",
    "        \"..\",\n",
    "        \"data\",\n",
    "        \"raw\",\n",
    "        \"thesis_marta\"\n",
    "    )\n",
    "print(path_to_project_folder)"
   ]
  },
  {
   "attachments": {},
   "cell_type": "markdown",
   "metadata": {},
   "source": [
    "Get the names of the subjects folders."
   ]
  },
  {
   "cell_type": "code",
   "execution_count": 168,
   "metadata": {},
   "outputs": [
    {
     "name": "stdout",
     "output_type": "stream",
     "text": [
      "['fr_va_1960_08_18_538_u', 'ma_va_1998_07_04_538_d']\n"
     ]
    }
   ],
   "source": [
    "names_of_subjects_folders = get_names_of_subj_folders(path_to_project_folder)\n",
    "print(names_of_subjects_folders)"
   ]
  },
  {
   "attachments": {},
   "cell_type": "markdown",
   "metadata": {},
   "source": [
    "Select one subject."
   ]
  },
  {
   "cell_type": "code",
   "execution_count": 169,
   "metadata": {},
   "outputs": [],
   "source": [
    "# SUBJECT_INDEX identifies the elements of the `folder` list.\n",
    "SUBJECT_INDEX = 1"
   ]
  },
  {
   "attachments": {},
   "cell_type": "markdown",
   "metadata": {},
   "source": [
    "For the selected subject, get the name of the file in the `biographical_data` folder."
   ]
  },
  {
   "cell_type": "code",
   "execution_count": 170,
   "metadata": {},
   "outputs": [],
   "source": [
    "bio_data_df = get_biographic_data(SUBJECT_INDEX, names_of_subjects_folders)\n",
    "\n",
    "subject_id_string = bio_data_df[\"subject_id_string\"]\n",
    "subject_id_number = bio_data_df[\"subject_id_number\"]"
   ]
  },
  {
   "attachments": {},
   "cell_type": "markdown",
   "metadata": {},
   "source": [
    "Read thresholds from calibration data."
   ]
  },
  {
   "cell_type": "code",
   "execution_count": 171,
   "metadata": {},
   "outputs": [
    {
     "name": "stdout",
     "output_type": "stream",
     "text": [
      "[0.53, 0.57, 0.58, 0.5]\n"
     ]
    }
   ],
   "source": [
    "thresholds = get_thresholds(SUBJECT_INDEX, names_of_subjects_folders)\n",
    "print(thresholds)"
   ]
  },
  {
   "attachments": {},
   "cell_type": "markdown",
   "metadata": {},
   "source": [
    "Read eye-tracking data."
   ]
  },
  {
   "cell_type": "code",
   "execution_count": 172,
   "metadata": {},
   "outputs": [],
   "source": [
    "fix_df = get_eye_tracking_data(SUBJECT_INDEX, names_of_subjects_folders)"
   ]
  },
  {
   "cell_type": "code",
   "execution_count": 173,
   "metadata": {},
   "outputs": [
    {
     "data": {
      "text/html": [
       "<div>\n",
       "<style scoped>\n",
       "    .dataframe tbody tr th:only-of-type {\n",
       "        vertical-align: middle;\n",
       "    }\n",
       "\n",
       "    .dataframe tbody tr th {\n",
       "        vertical-align: top;\n",
       "    }\n",
       "\n",
       "    .dataframe thead th {\n",
       "        text-align: right;\n",
       "    }\n",
       "</style>\n",
       "<table border=\"1\" class=\"dataframe\">\n",
       "  <thead>\n",
       "    <tr style=\"text-align: right;\">\n",
       "      <th></th>\n",
       "      <th>prop_dx_fixation</th>\n",
       "      <th>prop_sx_fixation</th>\n",
       "      <th>prop_center_fixation</th>\n",
       "      <th>block</th>\n",
       "      <th>trial</th>\n",
       "      <th>stim_left</th>\n",
       "      <th>stim_left_img_number</th>\n",
       "      <th>stim_right</th>\n",
       "      <th>stim_right_img_number</th>\n",
       "      <th>subject_id_number2</th>\n",
       "    </tr>\n",
       "  </thead>\n",
       "  <tbody>\n",
       "    <tr>\n",
       "      <th>0</th>\n",
       "      <td>0.750000</td>\n",
       "      <td>0.000000</td>\n",
       "      <td>0.250000</td>\n",
       "      <td>5</td>\n",
       "      <td>107</td>\n",
       "      <td>orange</td>\n",
       "      <td>9</td>\n",
       "      <td>blue</td>\n",
       "      <td>4</td>\n",
       "      <td>0GLB5VNRFDP</td>\n",
       "    </tr>\n",
       "    <tr>\n",
       "      <th>1</th>\n",
       "      <td>0.692308</td>\n",
       "      <td>0.000000</td>\n",
       "      <td>0.307692</td>\n",
       "      <td>5</td>\n",
       "      <td>102</td>\n",
       "      <td>blue</td>\n",
       "      <td>5</td>\n",
       "      <td>orange</td>\n",
       "      <td>9</td>\n",
       "      <td>0GLB5VNRFDP</td>\n",
       "    </tr>\n",
       "    <tr>\n",
       "      <th>2</th>\n",
       "      <td>0.531915</td>\n",
       "      <td>0.212766</td>\n",
       "      <td>0.255319</td>\n",
       "      <td>1</td>\n",
       "      <td>14</td>\n",
       "      <td>blue</td>\n",
       "      <td>3</td>\n",
       "      <td>orange</td>\n",
       "      <td>7</td>\n",
       "      <td>0GLB5VNRFDP</td>\n",
       "    </tr>\n",
       "    <tr>\n",
       "      <th>3</th>\n",
       "      <td>0.531250</td>\n",
       "      <td>0.015625</td>\n",
       "      <td>0.453125</td>\n",
       "      <td>2</td>\n",
       "      <td>44</td>\n",
       "      <td>blue</td>\n",
       "      <td>7</td>\n",
       "      <td>orange</td>\n",
       "      <td>5</td>\n",
       "      <td>0GLB5VNRFDP</td>\n",
       "    </tr>\n",
       "    <tr>\n",
       "      <th>4</th>\n",
       "      <td>0.818182</td>\n",
       "      <td>0.000000</td>\n",
       "      <td>0.181818</td>\n",
       "      <td>3</td>\n",
       "      <td>74</td>\n",
       "      <td>orange</td>\n",
       "      <td>2</td>\n",
       "      <td>blue</td>\n",
       "      <td>5</td>\n",
       "      <td>0GLB5VNRFDP</td>\n",
       "    </tr>\n",
       "  </tbody>\n",
       "</table>\n",
       "</div>"
      ],
      "text/plain": [
       "   prop_dx_fixation  prop_sx_fixation  prop_center_fixation  block  trial  \\\n",
       "0          0.750000          0.000000              0.250000      5    107   \n",
       "1          0.692308          0.000000              0.307692      5    102   \n",
       "2          0.531915          0.212766              0.255319      1     14   \n",
       "3          0.531250          0.015625              0.453125      2     44   \n",
       "4          0.818182          0.000000              0.181818      3     74   \n",
       "\n",
       "  stim_left  stim_left_img_number stim_right  stim_right_img_number  \\\n",
       "0    orange                     9       blue                      4   \n",
       "1      blue                     5     orange                      9   \n",
       "2      blue                     3     orange                      7   \n",
       "3      blue                     7     orange                      5   \n",
       "4    orange                     2       blue                      5   \n",
       "\n",
       "  subject_id_number2  \n",
       "0        0GLB5VNRFDP  \n",
       "1        0GLB5VNRFDP  \n",
       "2        0GLB5VNRFDP  \n",
       "3        0GLB5VNRFDP  \n",
       "4        0GLB5VNRFDP  "
      ]
     },
     "execution_count": 173,
     "metadata": {},
     "output_type": "execute_result"
    }
   ],
   "source": [
    "fix_df.head()"
   ]
  },
  {
   "cell_type": "code",
   "execution_count": 174,
   "metadata": {},
   "outputs": [
    {
     "data": {
      "text/plain": [
       "[0.6447559720112035, 0.0747397664170781, 0.2805042615717185]"
      ]
     },
     "execution_count": 174,
     "metadata": {},
     "output_type": "execute_result"
    }
   ],
   "source": [
    "# calculate mean of prop_dx_fixation column\n",
    "mean_dx = fix_df['prop_dx_fixation'].mean()\n",
    "\n",
    "# calculate mean of prop_sx_fixation column\n",
    "mean_sx = fix_df['prop_sx_fixation'].mean()\n",
    "\n",
    "# calculate mean of prop_center_fixation column\n",
    "mean_center = fix_df['prop_center_fixation'].mean()\n",
    "\n",
    "[mean_dx, mean_sx, mean_center]"
   ]
  },
  {
   "attachments": {},
   "cell_type": "markdown",
   "metadata": {},
   "source": [
    "Read PRL data"
   ]
  },
  {
   "cell_type": "code",
   "execution_count": 175,
   "metadata": {},
   "outputs": [],
   "source": [
    "prl_df = read_prl_data(SUBJECT_INDEX, names_of_subjects_folders)\n"
   ]
  },
  {
   "attachments": {},
   "cell_type": "markdown",
   "metadata": {},
   "source": [
    "Merge the fixation DataFrame and the PRL DataFrame"
   ]
  },
  {
   "cell_type": "code",
   "execution_count": 176,
   "metadata": {},
   "outputs": [
    {
     "data": {
      "text/plain": [
       "Index(['prop_dx_fixation', 'prop_sx_fixation', 'prop_center_fixation', 'block',\n",
       "       'trial', 'stim_left', 'stim_left_img_number', 'stim_right',\n",
       "       'stim_right_img_number', 'subject_id_number2', 'more_rewarded_color',\n",
       "       'stimulus_choice', 'blue_position', 'orange_position', 'left_img_name',\n",
       "       'right_img_name', 'location_choice', 'keyboard_input', 'orange_reward',\n",
       "       'blue_reward', 'outcome', 'start_reaction_time', 'end_reaction_time',\n",
       "       'start_absolute_time', 'end_absolute_time'],\n",
       "      dtype='object')"
      ]
     },
     "execution_count": 176,
     "metadata": {},
     "output_type": "execute_result"
    }
   ],
   "source": [
    "tot_df = pd.merge(fix_df, prl_df, on=\"trial\", how=\"outer\")\n",
    "tot_df.columns\n"
   ]
  },
  {
   "cell_type": "code",
   "execution_count": 177,
   "metadata": {},
   "outputs": [
    {
     "data": {
      "text/plain": [
       "0.72"
      ]
     },
     "execution_count": 177,
     "metadata": {},
     "output_type": "execute_result"
    }
   ],
   "source": [
    "# Calculate rt column\n",
    "tot_df[\"rt\"] = tot_df[\"end_reaction_time\"] - tot_df[\"start_reaction_time\"]\n",
    "\n",
    "# Create is_negative_img_chosen column\n",
    "tot_df[\"is_negative_img_chosen\"] = tot_df[\"stimulus_choice\"].apply(\n",
    "    lambda x: 1 if x == \"blue\" else 0\n",
    ")\n",
    "\n",
    "# Create feedback column\n",
    "tot_df[\"feedback\"] = tot_df[\"outcome\"].apply(lambda x: 1 if x == \"euro\" else 0)\n",
    "\n",
    "# Calculate mean feedback\n",
    "mean_feedback = tot_df[\"feedback\"].mean()\n",
    "mean_feedback\n"
   ]
  },
  {
   "cell_type": "code",
   "execution_count": 178,
   "metadata": {},
   "outputs": [
    {
     "data": {
      "text/plain": [
       "0      orange_9\n",
       "1        blue_5\n",
       "2        blue_3\n",
       "3        blue_7\n",
       "4      orange_2\n",
       "         ...   \n",
       "145      blue_3\n",
       "146      blue_6\n",
       "147    orange_6\n",
       "148    orange_8\n",
       "149    orange_1\n",
       "Name: left_img_name, Length: 150, dtype: object"
      ]
     },
     "execution_count": 178,
     "metadata": {},
     "output_type": "execute_result"
    }
   ],
   "source": [
    "tot_df.left_img_name"
   ]
  },
  {
   "attachments": {},
   "cell_type": "markdown",
   "metadata": {},
   "source": [
    "Recode `left_img_name` (orange_5, blue_8, ...) so as to keep only the name (discard the number)."
   ]
  },
  {
   "cell_type": "code",
   "execution_count": 179,
   "metadata": {},
   "outputs": [],
   "source": [
    "left_img = tot_df[\"left_img_name\"].str.split(\"_\")\n",
    "tot_df[\"image_on_left\"] = pd.DataFrame(left_img.tolist())[0]\n",
    "\n",
    "right_img = tot_df[\"right_img_name\"].str.split(\"_\")\n",
    "tot_df[\"image_on_right\"] = pd.DataFrame(right_img.tolist())[0]"
   ]
  },
  {
   "cell_type": "code",
   "execution_count": 180,
   "metadata": {},
   "outputs": [
    {
     "data": {
      "text/html": [
       "<div>\n",
       "<style scoped>\n",
       "    .dataframe tbody tr th:only-of-type {\n",
       "        vertical-align: middle;\n",
       "    }\n",
       "\n",
       "    .dataframe tbody tr th {\n",
       "        vertical-align: top;\n",
       "    }\n",
       "\n",
       "    .dataframe thead th {\n",
       "        text-align: right;\n",
       "    }\n",
       "</style>\n",
       "<table border=\"1\" class=\"dataframe\">\n",
       "  <thead>\n",
       "    <tr style=\"text-align: right;\">\n",
       "      <th></th>\n",
       "      <th></th>\n",
       "      <th>avg_left_fix</th>\n",
       "      <th>avg_right_fix</th>\n",
       "    </tr>\n",
       "    <tr>\n",
       "      <th>image_on_left</th>\n",
       "      <th>image_on_right</th>\n",
       "      <th></th>\n",
       "      <th></th>\n",
       "    </tr>\n",
       "  </thead>\n",
       "  <tbody>\n",
       "    <tr>\n",
       "      <th>blue</th>\n",
       "      <th>orange</th>\n",
       "      <td>0.120768</td>\n",
       "      <td>0.508559</td>\n",
       "    </tr>\n",
       "    <tr>\n",
       "      <th>orange</th>\n",
       "      <th>blue</th>\n",
       "      <td>0.023525</td>\n",
       "      <td>0.796299</td>\n",
       "    </tr>\n",
       "  </tbody>\n",
       "</table>\n",
       "</div>"
      ],
      "text/plain": [
       "                              avg_left_fix  avg_right_fix\n",
       "image_on_left image_on_right                             \n",
       "blue          orange              0.120768       0.508559\n",
       "orange        blue                0.023525       0.796299"
      ]
     },
     "execution_count": 180,
     "metadata": {},
     "output_type": "execute_result"
    }
   ],
   "source": [
    "tot_df.groupby([\"image_on_left\", \"image_on_right\"]).agg(\n",
    "    avg_left_fix=(\"prop_sx_fixation\", \"mean\"),\n",
    "    avg_right_fix=(\"prop_dx_fixation\", \"mean\"),\n",
    ")\n"
   ]
  },
  {
   "cell_type": "code",
   "execution_count": 181,
   "metadata": {},
   "outputs": [
    {
     "name": "stdout",
     "output_type": "stream",
     "text": [
      "                             OLS Regression Results                            \n",
      "===============================================================================\n",
      "Dep. Variable:     is_preference_right   R-squared:                       0.292\n",
      "Model:                             OLS   Adj. R-squared:                  0.288\n",
      "Method:                  Least Squares   F-statistic:                     61.17\n",
      "Date:                 Sat, 18 Mar 2023   Prob (F-statistic):           9.10e-13\n",
      "Time:                         09:40:55   Log-Likelihood:                -31.741\n",
      "No. Observations:                  150   AIC:                             67.48\n",
      "Df Residuals:                      148   BIC:                             73.50\n",
      "Df Model:                            1                                         \n",
      "Covariance Type:             nonrobust                                         \n",
      "========================================================================================\n",
      "                           coef    std err          t      P>|t|      [0.025      0.975]\n",
      "----------------------------------------------------------------------------------------\n",
      "Intercept                0.7728      0.036     21.632      0.000       0.702       0.843\n",
      "stim_right[T.orange]    -0.3850      0.049     -7.821      0.000      -0.482      -0.288\n",
      "==============================================================================\n",
      "Omnibus:                       21.789   Durbin-Watson:                   2.080\n",
      "Prob(Omnibus):                  0.000   Jarque-Bera (JB):               29.527\n",
      "Skew:                          -0.824   Prob(JB):                     3.88e-07\n",
      "Kurtosis:                       4.417   Cond. No.                         2.69\n",
      "==============================================================================\n",
      "\n",
      "Notes:\n",
      "[1] Standard Errors assume that the covariance matrix of the errors is correctly specified.\n"
     ]
    }
   ],
   "source": [
    "tot_df[\"is_preference_right\"] = tot_df[\"prop_dx_fixation\"] - tot_df[\"prop_sx_fixation\"]\n",
    "\n",
    "fm = smf.ols(\"is_preference_right ~ stim_right\", data=tot_df).fit()\n",
    "print(fm.summary())"
   ]
  },
  {
   "cell_type": "code",
   "execution_count": 182,
   "metadata": {},
   "outputs": [
    {
     "data": {
      "text/html": [
       "<div>\n",
       "<style scoped>\n",
       "    .dataframe tbody tr th:only-of-type {\n",
       "        vertical-align: middle;\n",
       "    }\n",
       "\n",
       "    .dataframe tbody tr th {\n",
       "        vertical-align: top;\n",
       "    }\n",
       "\n",
       "    .dataframe thead th {\n",
       "        text-align: right;\n",
       "    }\n",
       "</style>\n",
       "<table border=\"1\" class=\"dataframe\">\n",
       "  <thead>\n",
       "    <tr style=\"text-align: right;\">\n",
       "      <th></th>\n",
       "      <th>avg_left</th>\n",
       "      <th>avg_right</th>\n",
       "    </tr>\n",
       "    <tr>\n",
       "      <th>location_choice</th>\n",
       "      <th></th>\n",
       "      <th></th>\n",
       "    </tr>\n",
       "  </thead>\n",
       "  <tbody>\n",
       "    <tr>\n",
       "      <th>left</th>\n",
       "      <td>0.09229</td>\n",
       "      <td>0.602937</td>\n",
       "    </tr>\n",
       "    <tr>\n",
       "      <th>right</th>\n",
       "      <td>0.05719</td>\n",
       "      <td>0.686575</td>\n",
       "    </tr>\n",
       "  </tbody>\n",
       "</table>\n",
       "</div>"
      ],
      "text/plain": [
       "                 avg_left  avg_right\n",
       "location_choice                     \n",
       "left              0.09229   0.602937\n",
       "right             0.05719   0.686575"
      ]
     },
     "execution_count": 182,
     "metadata": {},
     "output_type": "execute_result"
    }
   ],
   "source": [
    "tot_df.groupby([\"location_choice\"]).agg(\n",
    "    avg_left=(\"prop_sx_fixation\", \"mean\"), avg_right=(\"prop_dx_fixation\", \"mean\")\n",
    ")"
   ]
  },
  {
   "attachments": {},
   "cell_type": "markdown",
   "metadata": {},
   "source": [
    "Average positive feedback."
   ]
  },
  {
   "cell_type": "code",
   "execution_count": 183,
   "metadata": {},
   "outputs": [
    {
     "name": "stdout",
     "output_type": "stream",
     "text": [
      "0.72\n"
     ]
    }
   ],
   "source": [
    "mean_feedback = tot_df[\"feedback\"].mean()\n",
    "print(mean_feedback)"
   ]
  }
 ],
 "metadata": {
  "kernelspec": {
   "display_name": "pymc_511",
   "language": "python",
   "name": "python3"
  },
  "language_info": {
   "codemirror_mode": {
    "name": "ipython",
    "version": 3
   },
   "file_extension": ".py",
   "mimetype": "text/x-python",
   "name": "python",
   "nbconvert_exporter": "python",
   "pygments_lexer": "ipython3",
   "version": "3.11.0"
  },
  "orig_nbformat": 4,
  "vscode": {
   "interpreter": {
    "hash": "b3beb53266ff5bd7e621f3af1c4942e62a7b1a5962616828f37cf42435bfcfb1"
   }
  }
 },
 "nbformat": 4,
 "nbformat_minor": 2
}
